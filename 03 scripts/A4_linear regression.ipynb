{
 "cells": [
  {
   "cell_type": "markdown",
   "id": "5d6bb751",
   "metadata": {},
   "source": [
    "# A4: Linear regression"
   ]
  },
  {
   "cell_type": "markdown",
   "id": "20501801",
   "metadata": {},
   "source": [
    "contents\n",
    "- prep for linear regression\n",
    "- linear regression \n",
    "- Model testing on Test set\n",
    "- Model testing on Test set Training set \n",
    "- Model testing on Test set adjusted test set"
   ]
  },
  {
   "cell_type": "markdown",
   "id": "da23ab65",
   "metadata": {},
   "source": [
    "# # Import libraries and dataset"
   ]
  },
  {
   "cell_type": "code",
   "execution_count": 1,
   "id": "48dd7e17",
   "metadata": {},
   "outputs": [],
   "source": [
    "import pandas as pd\n",
    "import numpy as np\n",
    "import seaborn as sns\n",
    "import matplotlib\n",
    "import matplotlib.pyplot as plt\n",
    "import os\n",
    "import sklearn\n",
    "from sklearn.model_selection import train_test_split \n",
    "from sklearn.linear_model import LinearRegression\n",
    "from sklearn.metrics import mean_squared_error, r2_score"
   ]
  },
  {
   "cell_type": "code",
   "execution_count": 2,
   "id": "2a8f1a62",
   "metadata": {},
   "outputs": [],
   "source": [
    "# This option ensures that the graphs you create are displayed within the notebook without the need to \"call\" them specifically.\n",
    "\n",
    "%matplotlib inline"
   ]
  },
  {
   "cell_type": "code",
   "execution_count": 3,
   "id": "ff3cf3c0",
   "metadata": {},
   "outputs": [],
   "source": [
    "# activating all columns to be seen:\n",
    "pd.set_option('display.max_columns', 100)"
   ]
  },
  {
   "cell_type": "code",
   "execution_count": 4,
   "id": "b7f1fb25",
   "metadata": {},
   "outputs": [],
   "source": [
    "# activating all rows to be seen:\n",
    "pd.set_option('display.max_rows', None)"
   ]
  },
  {
   "cell_type": "code",
   "execution_count": 5,
   "id": "b219c2a9",
   "metadata": {},
   "outputs": [],
   "source": [
    "#importing csv dataset:\n",
    "path = r'C:\\Users\\chris\\Documents\\airbnb_Berlin'\n",
    "listings = pd.read_csv(os.path.join(path,'02 data', 'prepared data', 'listings_details_wrangled.csv'),index_col=False)"
   ]
  },
  {
   "cell_type": "code",
   "execution_count": 6,
   "id": "4ccbe67c",
   "metadata": {},
   "outputs": [
    {
     "data": {
      "text/html": [
       "<div>\n",
       "<style scoped>\n",
       "    .dataframe tbody tr th:only-of-type {\n",
       "        vertical-align: middle;\n",
       "    }\n",
       "\n",
       "    .dataframe tbody tr th {\n",
       "        vertical-align: top;\n",
       "    }\n",
       "\n",
       "    .dataframe thead th {\n",
       "        text-align: right;\n",
       "    }\n",
       "</style>\n",
       "<table border=\"1\" class=\"dataframe\">\n",
       "  <thead>\n",
       "    <tr style=\"text-align: right;\">\n",
       "      <th></th>\n",
       "      <th>id</th>\n",
       "      <th>scrape_id</th>\n",
       "      <th>last_scraped</th>\n",
       "      <th>source</th>\n",
       "      <th>host_id</th>\n",
       "      <th>host_name</th>\n",
       "      <th>host_location</th>\n",
       "      <th>neighbourhood_cleansed</th>\n",
       "      <th>neighbourhood_group_cleansed</th>\n",
       "      <th>latitude</th>\n",
       "      <th>longitude</th>\n",
       "      <th>property_type</th>\n",
       "      <th>room_type</th>\n",
       "      <th>accommodates</th>\n",
       "      <th>price</th>\n",
       "      <th>minimum_nights</th>\n",
       "      <th>maximum_nights</th>\n",
       "      <th>number_of_reviews</th>\n",
       "      <th>review_scores_rating</th>\n",
       "      <th>calculated_host_listings_count</th>\n",
       "      <th>reviews_per_month</th>\n",
       "      <th>host_location_cleansed</th>\n",
       "      <th>city</th>\n",
       "      <th>country</th>\n",
       "      <th>country_region</th>\n",
       "      <th>Price category</th>\n",
       "    </tr>\n",
       "  </thead>\n",
       "  <tbody>\n",
       "    <tr>\n",
       "      <th>0</th>\n",
       "      <td>3176</td>\n",
       "      <td>20230622195229</td>\n",
       "      <td>2023-06-23</td>\n",
       "      <td>previous scrape</td>\n",
       "      <td>3718</td>\n",
       "      <td>Britta</td>\n",
       "      <td>Coledale, Australia</td>\n",
       "      <td>Prenzlauer Berg Südwest</td>\n",
       "      <td>Pankow</td>\n",
       "      <td>52.53471</td>\n",
       "      <td>13.41810</td>\n",
       "      <td>Entire rental unit</td>\n",
       "      <td>Entire home/apt</td>\n",
       "      <td>4</td>\n",
       "      <td>83.0</td>\n",
       "      <td>63</td>\n",
       "      <td>184</td>\n",
       "      <td>148</td>\n",
       "      <td>4.63</td>\n",
       "      <td>1</td>\n",
       "      <td>0.87</td>\n",
       "      <td>Coledale, Australia</td>\n",
       "      <td>Coledale</td>\n",
       "      <td>Australia</td>\n",
       "      <td>Australia</td>\n",
       "      <td>Middle price</td>\n",
       "    </tr>\n",
       "    <tr>\n",
       "      <th>1</th>\n",
       "      <td>9991</td>\n",
       "      <td>20230622195229</td>\n",
       "      <td>2023-06-23</td>\n",
       "      <td>city scrape</td>\n",
       "      <td>33852</td>\n",
       "      <td>Philipp</td>\n",
       "      <td>Berlin, Germany</td>\n",
       "      <td>Prenzlauer Berg Südwest</td>\n",
       "      <td>Pankow</td>\n",
       "      <td>52.53269</td>\n",
       "      <td>13.41805</td>\n",
       "      <td>Entire rental unit</td>\n",
       "      <td>Entire home/apt</td>\n",
       "      <td>7</td>\n",
       "      <td>180.0</td>\n",
       "      <td>6</td>\n",
       "      <td>14</td>\n",
       "      <td>8</td>\n",
       "      <td>5.00</td>\n",
       "      <td>1</td>\n",
       "      <td>0.08</td>\n",
       "      <td>Berlin, Germany</td>\n",
       "      <td>Berlin</td>\n",
       "      <td>Germany</td>\n",
       "      <td>Germany</td>\n",
       "      <td>High price</td>\n",
       "    </tr>\n",
       "    <tr>\n",
       "      <th>2</th>\n",
       "      <td>14325</td>\n",
       "      <td>20230622195229</td>\n",
       "      <td>2023-06-23</td>\n",
       "      <td>city scrape</td>\n",
       "      <td>55531</td>\n",
       "      <td>Chris + Oliver</td>\n",
       "      <td>Berlin, Germany</td>\n",
       "      <td>Prenzlauer Berg Nordwest</td>\n",
       "      <td>Pankow</td>\n",
       "      <td>52.54813</td>\n",
       "      <td>13.40366</td>\n",
       "      <td>Entire rental unit</td>\n",
       "      <td>Entire home/apt</td>\n",
       "      <td>1</td>\n",
       "      <td>70.0</td>\n",
       "      <td>93</td>\n",
       "      <td>1125</td>\n",
       "      <td>26</td>\n",
       "      <td>4.67</td>\n",
       "      <td>4</td>\n",
       "      <td>0.16</td>\n",
       "      <td>Berlin, Germany</td>\n",
       "      <td>Berlin</td>\n",
       "      <td>Germany</td>\n",
       "      <td>Germany</td>\n",
       "      <td>Low price</td>\n",
       "    </tr>\n",
       "    <tr>\n",
       "      <th>3</th>\n",
       "      <td>16644</td>\n",
       "      <td>20230622195229</td>\n",
       "      <td>2023-06-23</td>\n",
       "      <td>city scrape</td>\n",
       "      <td>64696</td>\n",
       "      <td>Rene</td>\n",
       "      <td>Santa Cruz, CA</td>\n",
       "      <td>nördliche Luisenstadt</td>\n",
       "      <td>Friedrichshain-Kreuzberg</td>\n",
       "      <td>52.50312</td>\n",
       "      <td>13.43508</td>\n",
       "      <td>Entire condo</td>\n",
       "      <td>Entire home/apt</td>\n",
       "      <td>5</td>\n",
       "      <td>92.0</td>\n",
       "      <td>93</td>\n",
       "      <td>365</td>\n",
       "      <td>48</td>\n",
       "      <td>4.72</td>\n",
       "      <td>2</td>\n",
       "      <td>0.30</td>\n",
       "      <td>Santa Cruz, CA</td>\n",
       "      <td>Santa Cruz</td>\n",
       "      <td>country unknown</td>\n",
       "      <td>country unknown</td>\n",
       "      <td>Middle price</td>\n",
       "    </tr>\n",
       "    <tr>\n",
       "      <th>4</th>\n",
       "      <td>17904</td>\n",
       "      <td>20230622195229</td>\n",
       "      <td>2023-06-23</td>\n",
       "      <td>city scrape</td>\n",
       "      <td>68997</td>\n",
       "      <td>Matthias</td>\n",
       "      <td>Rio de Janeiro, Brazil</td>\n",
       "      <td>Reuterstraße</td>\n",
       "      <td>Neukölln</td>\n",
       "      <td>52.49419</td>\n",
       "      <td>13.42166</td>\n",
       "      <td>Entire rental unit</td>\n",
       "      <td>Entire home/apt</td>\n",
       "      <td>2</td>\n",
       "      <td>25.0</td>\n",
       "      <td>92</td>\n",
       "      <td>365</td>\n",
       "      <td>299</td>\n",
       "      <td>4.77</td>\n",
       "      <td>1</td>\n",
       "      <td>1.84</td>\n",
       "      <td>Rio de Janeiro, Brazil</td>\n",
       "      <td>Rio de Janeiro</td>\n",
       "      <td>Brazil</td>\n",
       "      <td>South America</td>\n",
       "      <td>Low price</td>\n",
       "    </tr>\n",
       "  </tbody>\n",
       "</table>\n",
       "</div>"
      ],
      "text/plain": [
       "      id       scrape_id last_scraped           source  host_id  \\\n",
       "0   3176  20230622195229   2023-06-23  previous scrape     3718   \n",
       "1   9991  20230622195229   2023-06-23      city scrape    33852   \n",
       "2  14325  20230622195229   2023-06-23      city scrape    55531   \n",
       "3  16644  20230622195229   2023-06-23      city scrape    64696   \n",
       "4  17904  20230622195229   2023-06-23      city scrape    68997   \n",
       "\n",
       "        host_name           host_location    neighbourhood_cleansed  \\\n",
       "0          Britta     Coledale, Australia   Prenzlauer Berg Südwest   \n",
       "1         Philipp         Berlin, Germany   Prenzlauer Berg Südwest   \n",
       "2  Chris + Oliver         Berlin, Germany  Prenzlauer Berg Nordwest   \n",
       "3            Rene          Santa Cruz, CA     nördliche Luisenstadt   \n",
       "4        Matthias  Rio de Janeiro, Brazil              Reuterstraße   \n",
       "\n",
       "  neighbourhood_group_cleansed  latitude  longitude       property_type  \\\n",
       "0                       Pankow  52.53471   13.41810  Entire rental unit   \n",
       "1                       Pankow  52.53269   13.41805  Entire rental unit   \n",
       "2                       Pankow  52.54813   13.40366  Entire rental unit   \n",
       "3     Friedrichshain-Kreuzberg  52.50312   13.43508        Entire condo   \n",
       "4                     Neukölln  52.49419   13.42166  Entire rental unit   \n",
       "\n",
       "         room_type  accommodates  price  minimum_nights  maximum_nights  \\\n",
       "0  Entire home/apt             4   83.0              63             184   \n",
       "1  Entire home/apt             7  180.0               6              14   \n",
       "2  Entire home/apt             1   70.0              93            1125   \n",
       "3  Entire home/apt             5   92.0              93             365   \n",
       "4  Entire home/apt             2   25.0              92             365   \n",
       "\n",
       "   number_of_reviews  review_scores_rating  calculated_host_listings_count  \\\n",
       "0                148                  4.63                               1   \n",
       "1                  8                  5.00                               1   \n",
       "2                 26                  4.67                               4   \n",
       "3                 48                  4.72                               2   \n",
       "4                299                  4.77                               1   \n",
       "\n",
       "   reviews_per_month  host_location_cleansed            city          country  \\\n",
       "0               0.87     Coledale, Australia        Coledale        Australia   \n",
       "1               0.08         Berlin, Germany          Berlin          Germany   \n",
       "2               0.16         Berlin, Germany          Berlin          Germany   \n",
       "3               0.30          Santa Cruz, CA      Santa Cruz  country unknown   \n",
       "4               1.84  Rio de Janeiro, Brazil  Rio de Janeiro           Brazil   \n",
       "\n",
       "    country_region Price category  \n",
       "0        Australia   Middle price  \n",
       "1          Germany     High price  \n",
       "2          Germany      Low price  \n",
       "3  country unknown   Middle price  \n",
       "4    South America      Low price  "
      ]
     },
     "execution_count": 6,
     "metadata": {},
     "output_type": "execute_result"
    }
   ],
   "source": [
    "listings.head()"
   ]
  },
  {
   "cell_type": "code",
   "execution_count": 7,
   "id": "804e76c5",
   "metadata": {},
   "outputs": [
    {
     "data": {
      "text/plain": [
       "Index(['id', 'scrape_id', 'last_scraped', 'source', 'host_id', 'host_name',\n",
       "       'host_location', 'neighbourhood_cleansed',\n",
       "       'neighbourhood_group_cleansed', 'latitude', 'longitude',\n",
       "       'property_type', 'room_type', 'accommodates', 'price', 'minimum_nights',\n",
       "       'maximum_nights', 'number_of_reviews', 'review_scores_rating',\n",
       "       'calculated_host_listings_count', 'reviews_per_month',\n",
       "       'host_location_cleansed', 'city', 'country', 'country_region',\n",
       "       'Price category'],\n",
       "      dtype='object')"
      ]
     },
     "execution_count": 7,
     "metadata": {},
     "output_type": "execute_result"
    }
   ],
   "source": [
    "listings.columns"
   ]
  },
  {
   "cell_type": "markdown",
   "id": "fbfec9d4",
   "metadata": {},
   "source": [
    "# Hypothesis"
   ]
  },
  {
   "cell_type": "markdown",
   "id": "09523113",
   "metadata": {},
   "source": [
    "In A2, I found out, that between the number of accommodated people ('accommodates') and the price of the airbnb listing ('price') has a correlation coefficient = 0,44, a medium correlation. The value being rather low with the logic behind it pretty clear (accommodating more people is more costly than few people), there might be further variables to impact the price, like room-type ( a whole apartment is more expensive than a double room). For this first regression analysis, I will focus only on 'accommodates' and 'price'\n",
    "\n",
    "Hypothesis: The higher the number of accommodated people ('accommodates'), the higher the price ('price')."
   ]
  },
  {
   "cell_type": "markdown",
   "id": "6e44ae31",
   "metadata": {},
   "source": [
    "# Cleaning"
   ]
  },
  {
   "cell_type": "code",
   "execution_count": 8,
   "id": "90b916ba",
   "metadata": {},
   "outputs": [
    {
     "data": {
      "text/plain": [
       "accommodates    0\n",
       "price           0\n",
       "dtype: int64"
      ]
     },
     "execution_count": 8,
     "metadata": {},
     "output_type": "execute_result"
    }
   ],
   "source": [
    "# Check for missing values (in my regression columns, this is already the cleaned data set)\n",
    "\n",
    "listings[['accommodates', 'price']].isnull().sum()\n",
    "\n",
    "# No missing values to handle"
   ]
  },
  {
   "cell_type": "code",
   "execution_count": 9,
   "id": "6c6f3fc3",
   "metadata": {},
   "outputs": [],
   "source": [
    "dups = listings.duplicated()"
   ]
  },
  {
   "cell_type": "code",
   "execution_count": 10,
   "id": "5626d1e1",
   "metadata": {},
   "outputs": [
    {
     "data": {
      "text/plain": [
       "(12454,)"
      ]
     },
     "execution_count": 10,
     "metadata": {},
     "output_type": "execute_result"
    }
   ],
   "source": [
    "dups.shape # No dups"
   ]
  },
  {
   "cell_type": "markdown",
   "id": "18d3890d",
   "metadata": {},
   "source": [
    "#### Extreme values checks"
   ]
  },
  {
   "cell_type": "code",
   "execution_count": 11,
   "id": "c3e745cf",
   "metadata": {},
   "outputs": [
    {
     "name": "stderr",
     "output_type": "stream",
     "text": [
      "C:\\Users\\chris\\AppData\\Local\\Temp\\ipykernel_16428\\2288822309.py:1: UserWarning: \n",
      "\n",
      "`distplot` is a deprecated function and will be removed in seaborn v0.14.0.\n",
      "\n",
      "Please adapt your code to use either `displot` (a figure-level function with\n",
      "similar flexibility) or `histplot` (an axes-level function for histograms).\n",
      "\n",
      "For a guide to updating your code to use the new functions, please see\n",
      "https://gist.github.com/mwaskom/de44147ed2974457ad6372750bbe5751\n",
      "\n",
      "  sns.distplot(listings['price'], bins=40) # Shows extreme values\n"
     ]
    },
    {
     "data": {
      "text/plain": [
       "<Axes: xlabel='price', ylabel='Density'>"
      ]
     },
     "execution_count": 11,
     "metadata": {},
     "output_type": "execute_result"
    },
    {
     "data": {
      "image/png": "[encoded data removed]",
      "text/plain": [
       "<Figure size 640x480 with 1 Axes>"
      ]
     },
     "metadata": {},
     "output_type": "display_data"
    }
   ],
   "source": [
    "sns.distplot(listings['price'], bins=40) # Shows extreme values\n",
    "\n",
    "# Some of the outliers in the high values may need to be removed, but let's try without doing so first."
   ]
  },
  {
   "cell_type": "code",
   "execution_count": 12,
   "id": "7c76fe78",
   "metadata": {},
   "outputs": [
    {
     "data": {
      "text/plain": [
       "112.87481933515336"
      ]
     },
     "execution_count": 12,
     "metadata": {},
     "output_type": "execute_result"
    }
   ],
   "source": [
    "listings['price'].mean() # Check the mean"
   ]
  },
  {
   "cell_type": "code",
   "execution_count": 13,
   "id": "19dd0cb4",
   "metadata": {},
   "outputs": [
    {
     "data": {
      "text/plain": [
       "81.0"
      ]
     },
     "execution_count": 13,
     "metadata": {},
     "output_type": "execute_result"
    }
   ],
   "source": [
    "listings['price'].median() # Check the median"
   ]
  },
  {
   "cell_type": "code",
   "execution_count": 14,
   "id": "1ff40c3c",
   "metadata": {},
   "outputs": [
    {
     "data": {
      "text/plain": [
       "3434.0"
      ]
     },
     "execution_count": 14,
     "metadata": {},
     "output_type": "execute_result"
    }
   ],
   "source": [
    "listings['price'].max() # Check the max"
   ]
  },
  {
   "cell_type": "markdown",
   "id": "066ee283",
   "metadata": {},
   "source": [
    "Outliers in price have already been removed in the first overall cleaning. That outlier was absolutely clear (10,000 a night). Other than that, I didn't remove any 'high' prices, as in a metropole city renting a property has no limit."
   ]
  },
  {
   "cell_type": "markdown",
   "id": "d659016a",
   "metadata": {},
   "source": [
    "## Data prep for regression analysis "
   ]
  },
  {
   "cell_type": "code",
   "execution_count": 15,
   "id": "ba6fac9f",
   "metadata": {},
   "outputs": [
    {
     "data": {
      "image/png": "[encoded data removed]",
      "text/plain": [
       "<Figure size 640x480 with 1 Axes>"
      ]
     },
     "metadata": {},
     "output_type": "display_data"
    }
   ],
   "source": [
    "# Create a scatterplot using matplotlib for another look at how the chosen variables plot against each other.\n",
    "\n",
    "listings.plot(x = 'accommodates', y='price',style='o') # The style option creates a scatterplot; without it, we only have lines.\n",
    "plt.title('Number of accommodates and price')  \n",
    "plt.xlabel('accommodates')  \n",
    "plt.ylabel('price')  \n",
    "plt.show()"
   ]
  },
  {
   "cell_type": "code",
   "execution_count": 16,
   "id": "6fd4a9c1",
   "metadata": {},
   "outputs": [],
   "source": [
    "# Reshape the variables into NumPy arrays and put them into separate objects.\n",
    "\n",
    "X = listings['accommodates'].values.reshape(-1,1)\n",
    "y = listings['price'].values.reshape(-1,1)"
   ]
  },
  {
   "cell_type": "code",
   "execution_count": 17,
   "id": "81d09cac",
   "metadata": {},
   "outputs": [
    {
     "data": {
      "text/plain": [
       "array([[4],\n",
       "       [7],\n",
       "       [1],\n",
       "       ...,\n",
       "       [1],\n",
       "       [1],\n",
       "       [2]], dtype=int64)"
      ]
     },
     "execution_count": 17,
     "metadata": {},
     "output_type": "execute_result"
    }
   ],
   "source": [
    "X"
   ]
  },
  {
   "cell_type": "code",
   "execution_count": 18,
   "id": "58219e72",
   "metadata": {},
   "outputs": [
    {
     "data": {
      "text/plain": [
       "array([[ 83.],\n",
       "       [180.],\n",
       "       [ 70.],\n",
       "       ...,\n",
       "       [ 55.],\n",
       "       [ 40.],\n",
       "       [ 54.]])"
      ]
     },
     "execution_count": 18,
     "metadata": {},
     "output_type": "execute_result"
    }
   ],
   "source": [
    "y"
   ]
  },
  {
   "cell_type": "code",
   "execution_count": 19,
   "id": "0919f30e",
   "metadata": {},
   "outputs": [],
   "source": [
    "# Split data into a training set and a test set.\n",
    "\n",
    "X_train, X_test, y_train, y_test = train_test_split(X, y, test_size=0.3, random_state=0)"
   ]
  },
  {
   "cell_type": "markdown",
   "id": "f4e85624",
   "metadata": {},
   "source": [
    "## Regression analysis"
   ]
  },
  {
   "cell_type": "code",
   "execution_count": 20,
   "id": "119de0d1",
   "metadata": {},
   "outputs": [],
   "source": [
    "# Create a regression object.\n",
    "\n",
    "regression = LinearRegression()  # This is the regression object, which will be fit onto the training set."
   ]
  },
  {
   "cell_type": "code",
   "execution_count": 21,
   "id": "2b2de554",
   "metadata": {},
   "outputs": [
    {
     "data": {
      "text/html": [
       "<style>#sk-container-id-1 {color: black;background-color: white;}#sk-container-id-1 pre{padding: 0;}#sk-container-id-1 div.sk-toggleable {background-color: white;}#sk-container-id-1 label.sk-toggleable__label {cursor: pointer;display: block;width: 100%;margin-bottom: 0;padding: 0.3em;box-sizing: border-box;text-align: center;}#sk-container-id-1 label.sk-toggleable__label-arrow:before {content: \"▸\";float: left;margin-right: 0.25em;color: #696969;}#sk-container-id-1 label.sk-toggleable__label-arrow:hover:before {color: black;}#sk-container-id-1 div.sk-estimator:hover label.sk-toggleable__label-arrow:before {color: black;}#sk-container-id-1 div.sk-toggleable__content {max-height: 0;max-width: 0;overflow: hidden;text-align: left;background-color: #f0f8ff;}#sk-container-id-1 div.sk-toggleable__content pre {margin: 0.2em;color: black;border-radius: 0.25em;background-color: #f0f8ff;}#sk-container-id-1 input.sk-toggleable__control:checked~div.sk-toggleable__content {max-height: 200px;max-width: 100%;overflow: auto;}#sk-container-id-1 input.sk-toggleable__control:checked~label.sk-toggleable__label-arrow:before {content: \"▾\";}#sk-container-id-1 div.sk-estimator input.sk-toggleable__control:checked~label.sk-toggleable__label {background-color: #d4ebff;}#sk-container-id-1 div.sk-label input.sk-toggleable__control:checked~label.sk-toggleable__label {background-color: #d4ebff;}#sk-container-id-1 input.sk-hidden--visually {border: 0;clip: rect(1px 1px 1px 1px);clip: rect(1px, 1px, 1px, 1px);height: 1px;margin: -1px;overflow: hidden;padding: 0;position: absolute;width: 1px;}#sk-container-id-1 div.sk-estimator {font-family: monospace;background-color: #f0f8ff;border: 1px dotted black;border-radius: 0.25em;box-sizing: border-box;margin-bottom: 0.5em;}#sk-container-id-1 div.sk-estimator:hover {background-color: #d4ebff;}#sk-container-id-1 div.sk-parallel-item::after {content: \"\";width: 100%;border-bottom: 1px solid gray;flex-grow: 1;}#sk-container-id-1 div.sk-label:hover label.sk-toggleable__label {background-color: #d4ebff;}#sk-container-id-1 div.sk-serial::before {content: \"\";position: absolute;border-left: 1px solid gray;box-sizing: border-box;top: 0;bottom: 0;left: 50%;z-index: 0;}#sk-container-id-1 div.sk-serial {display: flex;flex-direction: column;align-items: center;background-color: white;padding-right: 0.2em;padding-left: 0.2em;position: relative;}#sk-container-id-1 div.sk-item {position: relative;z-index: 1;}#sk-container-id-1 div.sk-parallel {display: flex;align-items: stretch;justify-content: center;background-color: white;position: relative;}#sk-container-id-1 div.sk-item::before, #sk-container-id-1 div.sk-parallel-item::before {content: \"\";position: absolute;border-left: 1px solid gray;box-sizing: border-box;top: 0;bottom: 0;left: 50%;z-index: -1;}#sk-container-id-1 div.sk-parallel-item {display: flex;flex-direction: column;z-index: 1;position: relative;background-color: white;}#sk-container-id-1 div.sk-parallel-item:first-child::after {align-self: flex-end;width: 50%;}#sk-container-id-1 div.sk-parallel-item:last-child::after {align-self: flex-start;width: 50%;}#sk-container-id-1 div.sk-parallel-item:only-child::after {width: 0;}#sk-container-id-1 div.sk-dashed-wrapped {border: 1px dashed gray;margin: 0 0.4em 0.5em 0.4em;box-sizing: border-box;padding-bottom: 0.4em;background-color: white;}#sk-container-id-1 div.sk-label label {font-family: monospace;font-weight: bold;display: inline-block;line-height: 1.2em;}#sk-container-id-1 div.sk-label-container {text-align: center;}#sk-container-id-1 div.sk-container {/* jupyter's `normalize.less` sets `[hidden] { display: none; }` but bootstrap.min.css set `[hidden] { display: none !important; }` so we also need the `!important` here to be able to override the default hidden behavior on the sphinx rendered scikit-learn.org. See: https://github.com/scikit-learn/scikit-learn/issues/21755 */display: inline-block !important;position: relative;}#sk-container-id-1 div.sk-text-repr-fallback {display: none;}</style><div id=\"sk-container-id-1\" class=\"sk-top-container\"><div class=\"sk-text-repr-fallback\"><pre>LinearRegression()</pre><b>In a Jupyter environment, please rerun this cell to show the HTML representation or trust the notebook. <br />On GitHub, the HTML representation is unable to render, please try loading this page with nbviewer.org.</b></div><div class=\"sk-container\" hidden><div class=\"sk-item\"><div class=\"sk-estimator sk-toggleable\"><input class=\"sk-toggleable__control sk-hidden--visually\" id=\"sk-estimator-id-1\" type=\"checkbox\" checked><label for=\"sk-estimator-id-1\" class=\"sk-toggleable__label sk-toggleable__label-arrow\">LinearRegression</label><div class=\"sk-toggleable__content\"><pre>LinearRegression()</pre></div></div></div></div></div>"
      ],
      "text/plain": [
       "LinearRegression()"
      ]
     },
     "execution_count": 21,
     "metadata": {},
     "output_type": "execute_result"
    }
   ],
   "source": [
    "# Fit the regression object onto the training set.\n",
    "\n",
    "regression.fit(X_train, y_train)"
   ]
  },
  {
   "cell_type": "code",
   "execution_count": 22,
   "id": "27451f9d",
   "metadata": {},
   "outputs": [],
   "source": [
    "# Predict the values of y using X.\n",
    "\n",
    "y_predicted = regression.predict(X_test)"
   ]
  },
  {
   "cell_type": "code",
   "execution_count": 23,
   "id": "98b4ca26",
   "metadata": {},
   "outputs": [
    {
     "data": {
      "image/png": "[encoded data removed]",
      "text/plain": [
       "<Figure size 640x480 with 1 Axes>"
      ]
     },
     "metadata": {},
     "output_type": "display_data"
    }
   ],
   "source": [
    "# Create a plot that shows the regression line from the model on the test set.\n",
    "\n",
    "plot_test = plt\n",
    "plot_test.scatter(X_test, y_test, color='gray', s = 15)\n",
    "plot_test.plot(X_test, y_predicted, color='red', linewidth =3)\n",
    "plot_test.title('Accommodates vs price (Test set)')\n",
    "plot_test.xlabel('accommodates')\n",
    "plot_test.ylabel('price')\n",
    "plot_test.show()"
   ]
  },
  {
   "cell_type": "code",
   "execution_count": 24,
   "id": "86af8ab7",
   "metadata": {},
   "outputs": [],
   "source": [
    "# Create objects that contain the model summary statistics.\n",
    "\n",
    "rmse = mean_squared_error(y_test, y_predicted) # This is the mean squared error\n",
    "r2 = r2_score(y_test, y_predicted) # This is the R2 score."
   ]
  },
  {
   "cell_type": "code",
   "execution_count": 25,
   "id": "6c0d0f1c",
   "metadata": {},
   "outputs": [
    {
     "name": "stdout",
     "output_type": "stream",
     "text": [
      "Slope: [[29.07692606]]\n",
      "Mean squared error:  6948.767815609443\n",
      "R2 score:  0.29195121289246284\n"
     ]
    }
   ],
   "source": [
    "# Print the model summary statistics. This is where you evaluate the performance of the model.\n",
    "\n",
    "print('Slope:' ,regression.coef_)\n",
    "print('Mean squared error: ', rmse)\n",
    "print('R2 score: ', r2)"
   ]
  },
  {
   "cell_type": "code",
   "execution_count": 26,
   "id": "e2f5037d",
   "metadata": {},
   "outputs": [
    {
     "data": {
      "text/plain": [
       "array([[ 57.3888895 ],\n",
       "       [ 86.46581555],\n",
       "       [144.61966766],\n",
       "       ...,\n",
       "       [493.54278034],\n",
       "       [260.92737189],\n",
       "       [ 86.46581555]])"
      ]
     },
     "execution_count": 26,
     "metadata": {},
     "output_type": "execute_result"
    }
   ],
   "source": [
    "y_predicted"
   ]
  },
  {
   "cell_type": "markdown",
   "id": "f03e9223",
   "metadata": {},
   "source": [
    "### Interpreting the summary statistics above:"
   ]
  },
  {
   "cell_type": "markdown",
   "id": "e9ae1532",
   "metadata": {},
   "source": [
    "Slope: \n",
    "- indicates how much the dependent variable changes when the independent variable changes by one unit. \n",
    "- slope is approximately 29.08. This means that for each one-unit increase in your independent variable (X), there is an estimated increase of about 29.08 units in the dependent variable (Y).\n",
    "\n",
    "Mean Squared Error (MSE): \n",
    "- are the average squared difference between the observed values (your data) and the predicted values from the regression. - A lower MSE indicates that the regression line fits the data well. \n",
    "- In the case above case, the MSE is 6948.77. With the max-value in the model being around 1000, this is a rather large deviation.\n",
    "\n",
    "R2 Score (Coefficient of Determination): \n",
    "- The R2 score still provides insight into how well the independent variable (X) explains the variations in the dependent variable (Y) on the test data. \n",
    "- An R2 score of 0.29 means that approximately 29% of the variance in Y is explained by your independent variable X on the test data.\n",
    "\n",
    "Overall, this interpretation suggests that the model struggles to cover the full range of the dependent variable Y, especially when the maximum value in the model is around 1000, while the entire dataset has a maximum value of approximately 3500. This implies that additional factors or a more complex modeling approach may be necessary to achieve better predictions for Y.\n",
    "\n",
    "This fits my assumptions I related in my Hypothesis. "
   ]
  },
  {
   "cell_type": "code",
   "execution_count": 27,
   "id": "562e7c4b",
   "metadata": {},
   "outputs": [
    {
     "data": {
      "text/html": [
       "<div>\n",
       "<style scoped>\n",
       "    .dataframe tbody tr th:only-of-type {\n",
       "        vertical-align: middle;\n",
       "    }\n",
       "\n",
       "    .dataframe tbody tr th {\n",
       "        vertical-align: top;\n",
       "    }\n",
       "\n",
       "    .dataframe thead th {\n",
       "        text-align: right;\n",
       "    }\n",
       "</style>\n",
       "<table border=\"1\" class=\"dataframe\">\n",
       "  <thead>\n",
       "    <tr style=\"text-align: right;\">\n",
       "      <th></th>\n",
       "      <th>Actual</th>\n",
       "      <th>Predicted</th>\n",
       "    </tr>\n",
       "  </thead>\n",
       "  <tbody>\n",
       "    <tr>\n",
       "      <th>0</th>\n",
       "      <td>46.0</td>\n",
       "      <td>57.388889</td>\n",
       "    </tr>\n",
       "    <tr>\n",
       "      <th>1</th>\n",
       "      <td>67.0</td>\n",
       "      <td>86.465816</td>\n",
       "    </tr>\n",
       "    <tr>\n",
       "      <th>2</th>\n",
       "      <td>106.0</td>\n",
       "      <td>144.619668</td>\n",
       "    </tr>\n",
       "    <tr>\n",
       "      <th>3</th>\n",
       "      <td>128.0</td>\n",
       "      <td>86.465816</td>\n",
       "    </tr>\n",
       "    <tr>\n",
       "      <th>4</th>\n",
       "      <td>145.0</td>\n",
       "      <td>57.388889</td>\n",
       "    </tr>\n",
       "    <tr>\n",
       "      <th>5</th>\n",
       "      <td>115.0</td>\n",
       "      <td>86.465816</td>\n",
       "    </tr>\n",
       "    <tr>\n",
       "      <th>6</th>\n",
       "      <td>425.0</td>\n",
       "      <td>86.465816</td>\n",
       "    </tr>\n",
       "    <tr>\n",
       "      <th>7</th>\n",
       "      <td>30.0</td>\n",
       "      <td>57.388889</td>\n",
       "    </tr>\n",
       "    <tr>\n",
       "      <th>8</th>\n",
       "      <td>100.0</td>\n",
       "      <td>86.465816</td>\n",
       "    </tr>\n",
       "    <tr>\n",
       "      <th>9</th>\n",
       "      <td>98.0</td>\n",
       "      <td>144.619668</td>\n",
       "    </tr>\n",
       "    <tr>\n",
       "      <th>10</th>\n",
       "      <td>60.0</td>\n",
       "      <td>86.465816</td>\n",
       "    </tr>\n",
       "    <tr>\n",
       "      <th>11</th>\n",
       "      <td>203.0</td>\n",
       "      <td>202.773520</td>\n",
       "    </tr>\n",
       "    <tr>\n",
       "      <th>12</th>\n",
       "      <td>240.0</td>\n",
       "      <td>173.696594</td>\n",
       "    </tr>\n",
       "    <tr>\n",
       "      <th>13</th>\n",
       "      <td>48.0</td>\n",
       "      <td>115.542742</td>\n",
       "    </tr>\n",
       "    <tr>\n",
       "      <th>14</th>\n",
       "      <td>109.0</td>\n",
       "      <td>86.465816</td>\n",
       "    </tr>\n",
       "    <tr>\n",
       "      <th>15</th>\n",
       "      <td>33.0</td>\n",
       "      <td>86.465816</td>\n",
       "    </tr>\n",
       "    <tr>\n",
       "      <th>16</th>\n",
       "      <td>40.0</td>\n",
       "      <td>86.465816</td>\n",
       "    </tr>\n",
       "    <tr>\n",
       "      <th>17</th>\n",
       "      <td>230.0</td>\n",
       "      <td>144.619668</td>\n",
       "    </tr>\n",
       "    <tr>\n",
       "      <th>18</th>\n",
       "      <td>27.0</td>\n",
       "      <td>86.465816</td>\n",
       "    </tr>\n",
       "    <tr>\n",
       "      <th>19</th>\n",
       "      <td>18.0</td>\n",
       "      <td>57.388889</td>\n",
       "    </tr>\n",
       "    <tr>\n",
       "      <th>20</th>\n",
       "      <td>77.0</td>\n",
       "      <td>86.465816</td>\n",
       "    </tr>\n",
       "    <tr>\n",
       "      <th>21</th>\n",
       "      <td>224.0</td>\n",
       "      <td>115.542742</td>\n",
       "    </tr>\n",
       "    <tr>\n",
       "      <th>22</th>\n",
       "      <td>140.0</td>\n",
       "      <td>86.465816</td>\n",
       "    </tr>\n",
       "    <tr>\n",
       "      <th>23</th>\n",
       "      <td>92.0</td>\n",
       "      <td>202.773520</td>\n",
       "    </tr>\n",
       "    <tr>\n",
       "      <th>24</th>\n",
       "      <td>25.0</td>\n",
       "      <td>86.465816</td>\n",
       "    </tr>\n",
       "    <tr>\n",
       "      <th>25</th>\n",
       "      <td>52.0</td>\n",
       "      <td>86.465816</td>\n",
       "    </tr>\n",
       "    <tr>\n",
       "      <th>26</th>\n",
       "      <td>109.0</td>\n",
       "      <td>144.619668</td>\n",
       "    </tr>\n",
       "    <tr>\n",
       "      <th>27</th>\n",
       "      <td>89.0</td>\n",
       "      <td>86.465816</td>\n",
       "    </tr>\n",
       "    <tr>\n",
       "      <th>28</th>\n",
       "      <td>146.0</td>\n",
       "      <td>231.850446</td>\n",
       "    </tr>\n",
       "    <tr>\n",
       "      <th>29</th>\n",
       "      <td>55.0</td>\n",
       "      <td>144.619668</td>\n",
       "    </tr>\n",
       "  </tbody>\n",
       "</table>\n",
       "</div>"
      ],
      "text/plain": [
       "    Actual   Predicted\n",
       "0     46.0   57.388889\n",
       "1     67.0   86.465816\n",
       "2    106.0  144.619668\n",
       "3    128.0   86.465816\n",
       "4    145.0   57.388889\n",
       "5    115.0   86.465816\n",
       "6    425.0   86.465816\n",
       "7     30.0   57.388889\n",
       "8    100.0   86.465816\n",
       "9     98.0  144.619668\n",
       "10    60.0   86.465816\n",
       "11   203.0  202.773520\n",
       "12   240.0  173.696594\n",
       "13    48.0  115.542742\n",
       "14   109.0   86.465816\n",
       "15    33.0   86.465816\n",
       "16    40.0   86.465816\n",
       "17   230.0  144.619668\n",
       "18    27.0   86.465816\n",
       "19    18.0   57.388889\n",
       "20    77.0   86.465816\n",
       "21   224.0  115.542742\n",
       "22   140.0   86.465816\n",
       "23    92.0  202.773520\n",
       "24    25.0   86.465816\n",
       "25    52.0   86.465816\n",
       "26   109.0  144.619668\n",
       "27    89.0   86.465816\n",
       "28   146.0  231.850446\n",
       "29    55.0  144.619668"
      ]
     },
     "execution_count": 27,
     "metadata": {},
     "output_type": "execute_result"
    }
   ],
   "source": [
    "# Create a dataframe comparing the actual and predicted values of y.\n",
    "\n",
    "data = pd.DataFrame({'Actual': y_test.flatten(), 'Predicted': y_predicted.flatten()})\n",
    "data.head(30)"
   ]
  },
  {
   "cell_type": "markdown",
   "id": "eb100d00",
   "metadata": {},
   "source": [
    "#### We can see that there is mostly a huge difference in the actual and the predicted values."
   ]
  },
  {
   "cell_type": "markdown",
   "id": "3845732b",
   "metadata": {},
   "source": [
    "## Checking the model on the training set (as opposed to the test set)"
   ]
  },
  {
   "cell_type": "markdown",
   "id": "5997f1d4",
   "metadata": {},
   "source": [
    "##### Compare how the regression fits the training set:"
   ]
  },
  {
   "cell_type": "code",
   "execution_count": 28,
   "id": "ee2d4aaf",
   "metadata": {},
   "outputs": [],
   "source": [
    "# Predict.\n",
    "\n",
    "y_predicted_train = regression.predict(X_train) # This is predicting X_train!"
   ]
  },
  {
   "cell_type": "code",
   "execution_count": 29,
   "id": "078dc61d",
   "metadata": {},
   "outputs": [],
   "source": [
    "rmse = mean_squared_error(y_train, y_predicted_train)\n",
    "r2 = r2_score(y_train, y_predicted_train)"
   ]
  },
  {
   "cell_type": "code",
   "execution_count": 30,
   "id": "00ba9ac4",
   "metadata": {},
   "outputs": [
    {
     "data": {
      "image/png": "[encoded data removed]",
      "text/plain": [
       "<Figure size 640x480 with 1 Axes>"
      ]
     },
     "metadata": {},
     "output_type": "display_data"
    }
   ],
   "source": [
    "# Visualizing the training set results.\n",
    "\n",
    "plot_test = plt\n",
    "plot_test.scatter(X_train, y_train, color='green', s = 15)\n",
    "plot_test.plot(X_train, y_predicted_train, color='red', linewidth =3)\n",
    "plot_test.title('Accommodates vs price (Train set)')\n",
    "plot_test.xlabel('accommodates')\n",
    "plot_test.ylabel('price')\n",
    "plot_test.show()"
   ]
  },
  {
   "cell_type": "code",
   "execution_count": 31,
   "id": "33658ad9",
   "metadata": {},
   "outputs": [
    {
     "name": "stdout",
     "output_type": "stream",
     "text": [
      "Slope: [[29.07692606]]\n",
      "Mean squared error:  14031.780879784877\n",
      "R2 score:  0.17121971290689353\n"
     ]
    }
   ],
   "source": [
    "print('Slope:' ,regression.coef_)\n",
    "print('Mean squared error: ', rmse)\n",
    "print('R2 score: ', r2)"
   ]
  },
  {
   "cell_type": "markdown",
   "id": "da3d7fdf",
   "metadata": {},
   "source": [
    "Some things catch my eye:\n",
    "- The R2-score in the train set is LOWER than in the test set!\n",
    "- But still: The summary stats repeat it, the regression model struggles and is not a good fit. \n",
    "\n",
    "- That means: Either there is no linear correlation, or there are other determinating variables to be considered in the model or excluded from the model"
   ]
  },
  {
   "cell_type": "markdown",
   "id": "15adc6a8",
   "metadata": {},
   "source": [
    "### Bonus: performance improvement after removing outliers"
   ]
  },
  {
   "cell_type": "code",
   "execution_count": 32,
   "id": "71125928",
   "metadata": {},
   "outputs": [
    {
     "name": "stdout",
     "output_type": "stream",
     "text": [
      "room_type\n",
      "Entire home/apt    10.0\n",
      "Hotel room         59.0\n",
      "Private room        8.0\n",
      "Shared room        10.0\n",
      "Name: price, dtype: float64\n"
     ]
    }
   ],
   "source": [
    "# the room type will be one of the stronger disturbers of my model. >> MIN\n",
    "room_type_avg_price = listings.groupby('room_type')['price'].min().round(1)\n",
    "print(room_type_avg_price)"
   ]
  },
  {
   "cell_type": "code",
   "execution_count": 33,
   "id": "41020cc4",
   "metadata": {},
   "outputs": [
    {
     "name": "stdout",
     "output_type": "stream",
     "text": [
      "room_type\n",
      "Entire home/apt    3434.0\n",
      "Hotel room          738.0\n",
      "Private room       2088.0\n",
      "Shared room        2310.0\n",
      "Name: price, dtype: float64\n"
     ]
    }
   ],
   "source": [
    "# the room type will be one of the stronger disturbers of my model. >> MAX\n",
    "room_type_avg_price = listings.groupby('room_type')['price'].max().round(1)\n",
    "print(room_type_avg_price)"
   ]
  },
  {
   "cell_type": "code",
   "execution_count": 34,
   "id": "a87269d2",
   "metadata": {},
   "outputs": [
    {
     "name": "stdout",
     "output_type": "stream",
     "text": [
      "room_type\n",
      "Entire home/apt    133.5\n",
      "Hotel room         231.2\n",
      "Private room        67.6\n",
      "Shared room        102.7\n",
      "Name: price, dtype: float64\n"
     ]
    }
   ],
   "source": [
    "# the room type will be one of the stronger disturbers of my model. >> MEAN\n",
    "room_type_avg_price = listings.groupby('room_type')['price'].mean().round(1)\n",
    "print(room_type_avg_price)"
   ]
  },
  {
   "cell_type": "code",
   "execution_count": 35,
   "id": "140d9d39",
   "metadata": {},
   "outputs": [
    {
     "name": "stdout",
     "output_type": "stream",
     "text": [
      "room_type\n",
      "Entire home/apt    100.0\n",
      "Hotel room         199.5\n",
      "Private room        48.0\n",
      "Shared room         53.0\n",
      "Name: price, dtype: float64\n"
     ]
    }
   ],
   "source": [
    "# the room type will be one of the stronger disturbers of my model. >> MEDIAN\n",
    "room_type_avg_price = listings.groupby('room_type')['price'].median().round(1)\n",
    "print(room_type_avg_price)"
   ]
  },
  {
   "cell_type": "code",
   "execution_count": 36,
   "id": "d7e46c0b",
   "metadata": {},
   "outputs": [
    {
     "data": {
      "text/plain": [
       "Entire home/apt    8138\n",
       "Private room       4020\n",
       "Shared room         162\n",
       "Hotel room          134\n",
       "Name: room_type, dtype: int64"
      ]
     },
     "execution_count": 36,
     "metadata": {},
     "output_type": "execute_result"
    }
   ],
   "source": [
    "listings['room_type'].value_counts()"
   ]
  },
  {
   "cell_type": "markdown",
   "id": "263d1242",
   "metadata": {},
   "source": [
    " #### The entire apartment has a min close to private rooms. I will take the mean value of entire apartment as my new 'outlier' variable. This rules out a lot of hotel rooms and apartments, leaving more private rooms. If I'm right, the model shoul be a better fit. In a next step, I could make separate predictions on subsets after room_type."
   ]
  },
  {
   "cell_type": "code",
   "execution_count": 37,
   "id": "053450dd",
   "metadata": {},
   "outputs": [],
   "source": [
    "# Clean the 'price' values. Below 600 is randomly chosen, but it will remove many of the higher values that are due to room-type entire apartment.\n",
    "df_test = listings[listings['price'] <=600] "
   ]
  },
  {
   "cell_type": "code",
   "execution_count": 38,
   "id": "ad31ec3b",
   "metadata": {},
   "outputs": [
    {
     "data": {
      "text/html": [
       "<div>\n",
       "<style scoped>\n",
       "    .dataframe tbody tr th:only-of-type {\n",
       "        vertical-align: middle;\n",
       "    }\n",
       "\n",
       "    .dataframe tbody tr th {\n",
       "        vertical-align: top;\n",
       "    }\n",
       "\n",
       "    .dataframe thead th {\n",
       "        text-align: right;\n",
       "    }\n",
       "</style>\n",
       "<table border=\"1\" class=\"dataframe\">\n",
       "  <thead>\n",
       "    <tr style=\"text-align: right;\">\n",
       "      <th></th>\n",
       "      <th>id</th>\n",
       "      <th>scrape_id</th>\n",
       "      <th>host_id</th>\n",
       "      <th>latitude</th>\n",
       "      <th>longitude</th>\n",
       "      <th>accommodates</th>\n",
       "      <th>price</th>\n",
       "      <th>minimum_nights</th>\n",
       "      <th>maximum_nights</th>\n",
       "      <th>number_of_reviews</th>\n",
       "      <th>review_scores_rating</th>\n",
       "      <th>calculated_host_listings_count</th>\n",
       "      <th>reviews_per_month</th>\n",
       "    </tr>\n",
       "  </thead>\n",
       "  <tbody>\n",
       "    <tr>\n",
       "      <th>count</th>\n",
       "      <td>1.237100e+04</td>\n",
       "      <td>1.237100e+04</td>\n",
       "      <td>1.237100e+04</td>\n",
       "      <td>12371.000000</td>\n",
       "      <td>12371.000000</td>\n",
       "      <td>12371.000000</td>\n",
       "      <td>12371.000000</td>\n",
       "      <td>12371.000000</td>\n",
       "      <td>12371.000000</td>\n",
       "      <td>12371.000000</td>\n",
       "      <td>10027.000000</td>\n",
       "      <td>12371.000000</td>\n",
       "      <td>10027.000000</td>\n",
       "    </tr>\n",
       "    <tr>\n",
       "      <th>mean</th>\n",
       "      <td>1.849950e+17</td>\n",
       "      <td>2.023062e+13</td>\n",
       "      <td>1.323307e+08</td>\n",
       "      <td>52.509798</td>\n",
       "      <td>13.402575</td>\n",
       "      <td>2.933231</td>\n",
       "      <td>106.799046</td>\n",
       "      <td>43.915690</td>\n",
       "      <td>666.644653</td>\n",
       "      <td>36.689677</td>\n",
       "      <td>4.679704</td>\n",
       "      <td>7.147037</td>\n",
       "      <td>1.125511</td>\n",
       "    </tr>\n",
       "    <tr>\n",
       "      <th>std</th>\n",
       "      <td>3.270219e+17</td>\n",
       "      <td>2.461037e+00</td>\n",
       "      <td>1.544417e+08</td>\n",
       "      <td>0.033458</td>\n",
       "      <td>0.066328</td>\n",
       "      <td>1.824358</td>\n",
       "      <td>82.860423</td>\n",
       "      <td>47.494826</td>\n",
       "      <td>497.271481</td>\n",
       "      <td>78.776087</td>\n",
       "      <td>0.618868</td>\n",
       "      <td>22.447635</td>\n",
       "      <td>1.864223</td>\n",
       "    </tr>\n",
       "    <tr>\n",
       "      <th>min</th>\n",
       "      <td>3.176000e+03</td>\n",
       "      <td>2.023062e+13</td>\n",
       "      <td>1.581000e+03</td>\n",
       "      <td>52.369040</td>\n",
       "      <td>13.107580</td>\n",
       "      <td>1.000000</td>\n",
       "      <td>8.000000</td>\n",
       "      <td>1.000000</td>\n",
       "      <td>1.000000</td>\n",
       "      <td>0.000000</td>\n",
       "      <td>0.000000</td>\n",
       "      <td>1.000000</td>\n",
       "      <td>0.010000</td>\n",
       "    </tr>\n",
       "    <tr>\n",
       "      <th>25%</th>\n",
       "      <td>1.514790e+07</td>\n",
       "      <td>2.023062e+13</td>\n",
       "      <td>1.272474e+07</td>\n",
       "      <td>52.490185</td>\n",
       "      <td>13.363287</td>\n",
       "      <td>2.000000</td>\n",
       "      <td>50.000000</td>\n",
       "      <td>2.000000</td>\n",
       "      <td>130.000000</td>\n",
       "      <td>1.000000</td>\n",
       "      <td>4.620000</td>\n",
       "      <td>1.000000</td>\n",
       "      <td>0.120000</td>\n",
       "    </tr>\n",
       "    <tr>\n",
       "      <th>50%</th>\n",
       "      <td>3.433614e+07</td>\n",
       "      <td>2.023062e+13</td>\n",
       "      <td>5.274744e+07</td>\n",
       "      <td>52.509840</td>\n",
       "      <td>13.411690</td>\n",
       "      <td>2.000000</td>\n",
       "      <td>80.000000</td>\n",
       "      <td>7.000000</td>\n",
       "      <td>1124.000000</td>\n",
       "      <td>7.000000</td>\n",
       "      <td>4.840000</td>\n",
       "      <td>1.000000</td>\n",
       "      <td>0.480000</td>\n",
       "    </tr>\n",
       "    <tr>\n",
       "      <th>75%</th>\n",
       "      <td>5.422123e+07</td>\n",
       "      <td>2.023062e+13</td>\n",
       "      <td>2.152014e+08</td>\n",
       "      <td>52.532337</td>\n",
       "      <td>13.438070</td>\n",
       "      <td>4.000000</td>\n",
       "      <td>139.000000</td>\n",
       "      <td>92.000000</td>\n",
       "      <td>1125.000000</td>\n",
       "      <td>34.000000</td>\n",
       "      <td>5.000000</td>\n",
       "      <td>3.000000</td>\n",
       "      <td>1.540000</td>\n",
       "    </tr>\n",
       "    <tr>\n",
       "      <th>max</th>\n",
       "      <td>9.188887e+17</td>\n",
       "      <td>2.023062e+13</td>\n",
       "      <td>5.211785e+08</td>\n",
       "      <td>52.656110</td>\n",
       "      <td>13.721390</td>\n",
       "      <td>16.000000</td>\n",
       "      <td>600.000000</td>\n",
       "      <td>365.000000</td>\n",
       "      <td>9999.000000</td>\n",
       "      <td>2074.000000</td>\n",
       "      <td>5.000000</td>\n",
       "      <td>172.000000</td>\n",
       "      <td>65.330000</td>\n",
       "    </tr>\n",
       "  </tbody>\n",
       "</table>\n",
       "</div>"
      ],
      "text/plain": [
       "                 id     scrape_id       host_id      latitude     longitude  \\\n",
       "count  1.237100e+04  1.237100e+04  1.237100e+04  12371.000000  12371.000000   \n",
       "mean   1.849950e+17  2.023062e+13  1.323307e+08     52.509798     13.402575   \n",
       "std    3.270219e+17  2.461037e+00  1.544417e+08      0.033458      0.066328   \n",
       "min    3.176000e+03  2.023062e+13  1.581000e+03     52.369040     13.107580   \n",
       "25%    1.514790e+07  2.023062e+13  1.272474e+07     52.490185     13.363287   \n",
       "50%    3.433614e+07  2.023062e+13  5.274744e+07     52.509840     13.411690   \n",
       "75%    5.422123e+07  2.023062e+13  2.152014e+08     52.532337     13.438070   \n",
       "max    9.188887e+17  2.023062e+13  5.211785e+08     52.656110     13.721390   \n",
       "\n",
       "       accommodates         price  minimum_nights  maximum_nights  \\\n",
       "count  12371.000000  12371.000000    12371.000000    12371.000000   \n",
       "mean       2.933231    106.799046       43.915690      666.644653   \n",
       "std        1.824358     82.860423       47.494826      497.271481   \n",
       "min        1.000000      8.000000        1.000000        1.000000   \n",
       "25%        2.000000     50.000000        2.000000      130.000000   \n",
       "50%        2.000000     80.000000        7.000000     1124.000000   \n",
       "75%        4.000000    139.000000       92.000000     1125.000000   \n",
       "max       16.000000    600.000000      365.000000     9999.000000   \n",
       "\n",
       "       number_of_reviews  review_scores_rating  \\\n",
       "count       12371.000000          10027.000000   \n",
       "mean           36.689677              4.679704   \n",
       "std            78.776087              0.618868   \n",
       "min             0.000000              0.000000   \n",
       "25%             1.000000              4.620000   \n",
       "50%             7.000000              4.840000   \n",
       "75%            34.000000              5.000000   \n",
       "max          2074.000000              5.000000   \n",
       "\n",
       "       calculated_host_listings_count  reviews_per_month  \n",
       "count                    12371.000000       10027.000000  \n",
       "mean                         7.147037           1.125511  \n",
       "std                         22.447635           1.864223  \n",
       "min                          1.000000           0.010000  \n",
       "25%                          1.000000           0.120000  \n",
       "50%                          1.000000           0.480000  \n",
       "75%                          3.000000           1.540000  \n",
       "max                        172.000000          65.330000  "
      ]
     },
     "execution_count": 38,
     "metadata": {},
     "output_type": "execute_result"
    }
   ],
   "source": [
    "df_test.describe() # checking the max price. "
   ]
  },
  {
   "cell_type": "code",
   "execution_count": 39,
   "id": "e13c8389",
   "metadata": {},
   "outputs": [
    {
     "data": {
      "image/png": "[encoded data removed]",
      "text/plain": [
       "<Figure size 640x480 with 1 Axes>"
      ]
     },
     "metadata": {},
     "output_type": "display_data"
    }
   ],
   "source": [
    "# See how the scatterplot looks without outliers.\n",
    "\n",
    "df_test.plot(x = 'accommodates', y='price', style='o')  \n",
    "plt.title('Accommodates vs price')  \n",
    "plt.xlabel('accommodates')  \n",
    "plt.ylabel('price')  \n",
    "plt.show()"
   ]
  },
  {
   "cell_type": "code",
   "execution_count": 40,
   "id": "36959771",
   "metadata": {},
   "outputs": [],
   "source": [
    "# Reshape again.\n",
    "\n",
    "X_2 = df_test['accommodates'].values.reshape(-1,1)\n",
    "y_2 = df_test['price'].values.reshape(-1,1)"
   ]
  },
  {
   "cell_type": "code",
   "execution_count": 41,
   "id": "60bdc706",
   "metadata": {},
   "outputs": [],
   "source": [
    "X_train_2, X_test_2, y_train_2, y_test_2 = train_test_split(X_2, y_2, test_size=0.3, random_state=0)"
   ]
  },
  {
   "cell_type": "code",
   "execution_count": 42,
   "id": "f54ef896",
   "metadata": {},
   "outputs": [
    {
     "data": {
      "text/html": [
       "<style>#sk-container-id-2 {color: black;background-color: white;}#sk-container-id-2 pre{padding: 0;}#sk-container-id-2 div.sk-toggleable {background-color: white;}#sk-container-id-2 label.sk-toggleable__label {cursor: pointer;display: block;width: 100%;margin-bottom: 0;padding: 0.3em;box-sizing: border-box;text-align: center;}#sk-container-id-2 label.sk-toggleable__label-arrow:before {content: \"▸\";float: left;margin-right: 0.25em;color: #696969;}#sk-container-id-2 label.sk-toggleable__label-arrow:hover:before {color: black;}#sk-container-id-2 div.sk-estimator:hover label.sk-toggleable__label-arrow:before {color: black;}#sk-container-id-2 div.sk-toggleable__content {max-height: 0;max-width: 0;overflow: hidden;text-align: left;background-color: #f0f8ff;}#sk-container-id-2 div.sk-toggleable__content pre {margin: 0.2em;color: black;border-radius: 0.25em;background-color: #f0f8ff;}#sk-container-id-2 input.sk-toggleable__control:checked~div.sk-toggleable__content {max-height: 200px;max-width: 100%;overflow: auto;}#sk-container-id-2 input.sk-toggleable__control:checked~label.sk-toggleable__label-arrow:before {content: \"▾\";}#sk-container-id-2 div.sk-estimator input.sk-toggleable__control:checked~label.sk-toggleable__label {background-color: #d4ebff;}#sk-container-id-2 div.sk-label input.sk-toggleable__control:checked~label.sk-toggleable__label {background-color: #d4ebff;}#sk-container-id-2 input.sk-hidden--visually {border: 0;clip: rect(1px 1px 1px 1px);clip: rect(1px, 1px, 1px, 1px);height: 1px;margin: -1px;overflow: hidden;padding: 0;position: absolute;width: 1px;}#sk-container-id-2 div.sk-estimator {font-family: monospace;background-color: #f0f8ff;border: 1px dotted black;border-radius: 0.25em;box-sizing: border-box;margin-bottom: 0.5em;}#sk-container-id-2 div.sk-estimator:hover {background-color: #d4ebff;}#sk-container-id-2 div.sk-parallel-item::after {content: \"\";width: 100%;border-bottom: 1px solid gray;flex-grow: 1;}#sk-container-id-2 div.sk-label:hover label.sk-toggleable__label {background-color: #d4ebff;}#sk-container-id-2 div.sk-serial::before {content: \"\";position: absolute;border-left: 1px solid gray;box-sizing: border-box;top: 0;bottom: 0;left: 50%;z-index: 0;}#sk-container-id-2 div.sk-serial {display: flex;flex-direction: column;align-items: center;background-color: white;padding-right: 0.2em;padding-left: 0.2em;position: relative;}#sk-container-id-2 div.sk-item {position: relative;z-index: 1;}#sk-container-id-2 div.sk-parallel {display: flex;align-items: stretch;justify-content: center;background-color: white;position: relative;}#sk-container-id-2 div.sk-item::before, #sk-container-id-2 div.sk-parallel-item::before {content: \"\";position: absolute;border-left: 1px solid gray;box-sizing: border-box;top: 0;bottom: 0;left: 50%;z-index: -1;}#sk-container-id-2 div.sk-parallel-item {display: flex;flex-direction: column;z-index: 1;position: relative;background-color: white;}#sk-container-id-2 div.sk-parallel-item:first-child::after {align-self: flex-end;width: 50%;}#sk-container-id-2 div.sk-parallel-item:last-child::after {align-self: flex-start;width: 50%;}#sk-container-id-2 div.sk-parallel-item:only-child::after {width: 0;}#sk-container-id-2 div.sk-dashed-wrapped {border: 1px dashed gray;margin: 0 0.4em 0.5em 0.4em;box-sizing: border-box;padding-bottom: 0.4em;background-color: white;}#sk-container-id-2 div.sk-label label {font-family: monospace;font-weight: bold;display: inline-block;line-height: 1.2em;}#sk-container-id-2 div.sk-label-container {text-align: center;}#sk-container-id-2 div.sk-container {/* jupyter's `normalize.less` sets `[hidden] { display: none; }` but bootstrap.min.css set `[hidden] { display: none !important; }` so we also need the `!important` here to be able to override the default hidden behavior on the sphinx rendered scikit-learn.org. See: https://github.com/scikit-learn/scikit-learn/issues/21755 */display: inline-block !important;position: relative;}#sk-container-id-2 div.sk-text-repr-fallback {display: none;}</style><div id=\"sk-container-id-2\" class=\"sk-top-container\"><div class=\"sk-text-repr-fallback\"><pre>LinearRegression()</pre><b>In a Jupyter environment, please rerun this cell to show the HTML representation or trust the notebook. <br />On GitHub, the HTML representation is unable to render, please try loading this page with nbviewer.org.</b></div><div class=\"sk-container\" hidden><div class=\"sk-item\"><div class=\"sk-estimator sk-toggleable\"><input class=\"sk-toggleable__control sk-hidden--visually\" id=\"sk-estimator-id-2\" type=\"checkbox\" checked><label for=\"sk-estimator-id-2\" class=\"sk-toggleable__label sk-toggleable__label-arrow\">LinearRegression</label><div class=\"sk-toggleable__content\"><pre>LinearRegression()</pre></div></div></div></div></div>"
      ],
      "text/plain": [
       "LinearRegression()"
      ]
     },
     "execution_count": 42,
     "metadata": {},
     "output_type": "execute_result"
    }
   ],
   "source": [
    "# Run and fit the regression.\n",
    "\n",
    "regression = LinearRegression()  \n",
    "regression.fit(X_train_2, y_train_2)"
   ]
  },
  {
   "cell_type": "code",
   "execution_count": 43,
   "id": "326aca6c",
   "metadata": {},
   "outputs": [],
   "source": [
    "# Predict.\n",
    "\n",
    "y_predicted_2 = regression.predict(X_test_2)"
   ]
  },
  {
   "cell_type": "code",
   "execution_count": 44,
   "id": "9a1925c5",
   "metadata": {},
   "outputs": [],
   "source": [
    "rmse = mean_squared_error(y_test_2, y_predicted_2)\n",
    "r2 = r2_score(y_test_2, y_predicted_2)"
   ]
  },
  {
   "cell_type": "code",
   "execution_count": 45,
   "id": "b7fa8c99",
   "metadata": {},
   "outputs": [
    {
     "name": "stdout",
     "output_type": "stream",
     "text": [
      "Slope: [[25.38073511]]\n",
      "Mean squared error:  4916.2958896757555\n",
      "R2 score:  0.29014154542465886\n"
     ]
    }
   ],
   "source": [
    "print('Slope:' ,regression.coef_)\n",
    "print('Mean squared error: ', rmse)\n",
    "print('R2 score: ', r2)"
   ]
  },
  {
   "cell_type": "code",
   "execution_count": 46,
   "id": "8353be6e",
   "metadata": {},
   "outputs": [
    {
     "data": {
      "image/png": "[encoded data removed]",
      "text/plain": [
       "<Figure size 640x480 with 1 Axes>"
      ]
     },
     "metadata": {},
     "output_type": "display_data"
    }
   ],
   "source": [
    "# Visualizing the test set results.\n",
    "plot_test = plt\n",
    "plot_test.scatter(X_test_2, y_test_2, color='gray', s = 15)\n",
    "plot_test.plot(X_test_2, y_predicted_2, color='red', linewidth =3)\n",
    "plot_test.title('Accommodates vs price (Test set)')\n",
    "plot_test.xlabel('accommodates')\n",
    "plot_test.ylabel('price')\n",
    "plot_test.show()"
   ]
  },
  {
   "cell_type": "code",
   "execution_count": 47,
   "id": "b0f2de84",
   "metadata": {},
   "outputs": [
    {
     "data": {
      "text/html": [
       "<div>\n",
       "<style scoped>\n",
       "    .dataframe tbody tr th:only-of-type {\n",
       "        vertical-align: middle;\n",
       "    }\n",
       "\n",
       "    .dataframe tbody tr th {\n",
       "        vertical-align: top;\n",
       "    }\n",
       "\n",
       "    .dataframe thead th {\n",
       "        text-align: right;\n",
       "    }\n",
       "</style>\n",
       "<table border=\"1\" class=\"dataframe\">\n",
       "  <thead>\n",
       "    <tr style=\"text-align: right;\">\n",
       "      <th></th>\n",
       "      <th>Actual</th>\n",
       "      <th>Predicted</th>\n",
       "    </tr>\n",
       "  </thead>\n",
       "  <tbody>\n",
       "    <tr>\n",
       "      <th>0</th>\n",
       "      <td>23.0</td>\n",
       "      <td>57.603883</td>\n",
       "    </tr>\n",
       "    <tr>\n",
       "      <th>1</th>\n",
       "      <td>197.0</td>\n",
       "      <td>133.746089</td>\n",
       "    </tr>\n",
       "    <tr>\n",
       "      <th>2</th>\n",
       "      <td>84.0</td>\n",
       "      <td>108.365354</td>\n",
       "    </tr>\n",
       "    <tr>\n",
       "      <th>3</th>\n",
       "      <td>25.0</td>\n",
       "      <td>82.984619</td>\n",
       "    </tr>\n",
       "    <tr>\n",
       "      <th>4</th>\n",
       "      <td>62.0</td>\n",
       "      <td>82.984619</td>\n",
       "    </tr>\n",
       "    <tr>\n",
       "      <th>5</th>\n",
       "      <td>60.0</td>\n",
       "      <td>82.984619</td>\n",
       "    </tr>\n",
       "    <tr>\n",
       "      <th>6</th>\n",
       "      <td>159.0</td>\n",
       "      <td>133.746089</td>\n",
       "    </tr>\n",
       "    <tr>\n",
       "      <th>7</th>\n",
       "      <td>30.0</td>\n",
       "      <td>82.984619</td>\n",
       "    </tr>\n",
       "    <tr>\n",
       "      <th>8</th>\n",
       "      <td>55.0</td>\n",
       "      <td>82.984619</td>\n",
       "    </tr>\n",
       "    <tr>\n",
       "      <th>9</th>\n",
       "      <td>22.0</td>\n",
       "      <td>82.984619</td>\n",
       "    </tr>\n",
       "    <tr>\n",
       "      <th>10</th>\n",
       "      <td>100.0</td>\n",
       "      <td>133.746089</td>\n",
       "    </tr>\n",
       "    <tr>\n",
       "      <th>11</th>\n",
       "      <td>110.0</td>\n",
       "      <td>82.984619</td>\n",
       "    </tr>\n",
       "    <tr>\n",
       "      <th>12</th>\n",
       "      <td>75.0</td>\n",
       "      <td>82.984619</td>\n",
       "    </tr>\n",
       "    <tr>\n",
       "      <th>13</th>\n",
       "      <td>175.0</td>\n",
       "      <td>82.984619</td>\n",
       "    </tr>\n",
       "    <tr>\n",
       "      <th>14</th>\n",
       "      <td>408.0</td>\n",
       "      <td>260.649764</td>\n",
       "    </tr>\n",
       "    <tr>\n",
       "      <th>15</th>\n",
       "      <td>136.0</td>\n",
       "      <td>82.984619</td>\n",
       "    </tr>\n",
       "    <tr>\n",
       "      <th>16</th>\n",
       "      <td>280.0</td>\n",
       "      <td>184.507559</td>\n",
       "    </tr>\n",
       "    <tr>\n",
       "      <th>17</th>\n",
       "      <td>55.0</td>\n",
       "      <td>82.984619</td>\n",
       "    </tr>\n",
       "    <tr>\n",
       "      <th>18</th>\n",
       "      <td>45.0</td>\n",
       "      <td>82.984619</td>\n",
       "    </tr>\n",
       "    <tr>\n",
       "      <th>19</th>\n",
       "      <td>90.0</td>\n",
       "      <td>108.365354</td>\n",
       "    </tr>\n",
       "    <tr>\n",
       "      <th>20</th>\n",
       "      <td>50.0</td>\n",
       "      <td>133.746089</td>\n",
       "    </tr>\n",
       "    <tr>\n",
       "      <th>21</th>\n",
       "      <td>80.0</td>\n",
       "      <td>108.365354</td>\n",
       "    </tr>\n",
       "    <tr>\n",
       "      <th>22</th>\n",
       "      <td>55.0</td>\n",
       "      <td>133.746089</td>\n",
       "    </tr>\n",
       "    <tr>\n",
       "      <th>23</th>\n",
       "      <td>53.0</td>\n",
       "      <td>57.603883</td>\n",
       "    </tr>\n",
       "    <tr>\n",
       "      <th>24</th>\n",
       "      <td>160.0</td>\n",
       "      <td>82.984619</td>\n",
       "    </tr>\n",
       "    <tr>\n",
       "      <th>25</th>\n",
       "      <td>64.0</td>\n",
       "      <td>133.746089</td>\n",
       "    </tr>\n",
       "    <tr>\n",
       "      <th>26</th>\n",
       "      <td>218.0</td>\n",
       "      <td>133.746089</td>\n",
       "    </tr>\n",
       "    <tr>\n",
       "      <th>27</th>\n",
       "      <td>150.0</td>\n",
       "      <td>184.507559</td>\n",
       "    </tr>\n",
       "    <tr>\n",
       "      <th>28</th>\n",
       "      <td>380.0</td>\n",
       "      <td>336.791970</td>\n",
       "    </tr>\n",
       "    <tr>\n",
       "      <th>29</th>\n",
       "      <td>89.0</td>\n",
       "      <td>133.746089</td>\n",
       "    </tr>\n",
       "  </tbody>\n",
       "</table>\n",
       "</div>"
      ],
      "text/plain": [
       "    Actual   Predicted\n",
       "0     23.0   57.603883\n",
       "1    197.0  133.746089\n",
       "2     84.0  108.365354\n",
       "3     25.0   82.984619\n",
       "4     62.0   82.984619\n",
       "5     60.0   82.984619\n",
       "6    159.0  133.746089\n",
       "7     30.0   82.984619\n",
       "8     55.0   82.984619\n",
       "9     22.0   82.984619\n",
       "10   100.0  133.746089\n",
       "11   110.0   82.984619\n",
       "12    75.0   82.984619\n",
       "13   175.0   82.984619\n",
       "14   408.0  260.649764\n",
       "15   136.0   82.984619\n",
       "16   280.0  184.507559\n",
       "17    55.0   82.984619\n",
       "18    45.0   82.984619\n",
       "19    90.0  108.365354\n",
       "20    50.0  133.746089\n",
       "21    80.0  108.365354\n",
       "22    55.0  133.746089\n",
       "23    53.0   57.603883\n",
       "24   160.0   82.984619\n",
       "25    64.0  133.746089\n",
       "26   218.0  133.746089\n",
       "27   150.0  184.507559\n",
       "28   380.0  336.791970\n",
       "29    89.0  133.746089"
      ]
     },
     "execution_count": 47,
     "metadata": {},
     "output_type": "execute_result"
    }
   ],
   "source": [
    "data = pd.DataFrame({'Actual': y_test_2.flatten(), 'Predicted': y_predicted_2.flatten()})\n",
    "data.head(30)"
   ]
  },
  {
   "cell_type": "code",
   "execution_count": 48,
   "id": "f6546238",
   "metadata": {},
   "outputs": [
    {
     "data": {
      "text/html": [
       "<div>\n",
       "<style scoped>\n",
       "    .dataframe tbody tr th:only-of-type {\n",
       "        vertical-align: middle;\n",
       "    }\n",
       "\n",
       "    .dataframe tbody tr th {\n",
       "        vertical-align: top;\n",
       "    }\n",
       "\n",
       "    .dataframe thead th {\n",
       "        text-align: right;\n",
       "    }\n",
       "</style>\n",
       "<table border=\"1\" class=\"dataframe\">\n",
       "  <thead>\n",
       "    <tr style=\"text-align: right;\">\n",
       "      <th></th>\n",
       "      <th>Actual</th>\n",
       "      <th>Predicted</th>\n",
       "    </tr>\n",
       "  </thead>\n",
       "  <tbody>\n",
       "    <tr>\n",
       "      <th>count</th>\n",
       "      <td>3712.000000</td>\n",
       "      <td>3712.000000</td>\n",
       "    </tr>\n",
       "    <tr>\n",
       "      <th>mean</th>\n",
       "      <td>106.837554</td>\n",
       "      <td>106.409834</td>\n",
       "    </tr>\n",
       "    <tr>\n",
       "      <th>std</th>\n",
       "      <td>83.232250</td>\n",
       "      <td>45.788413</td>\n",
       "    </tr>\n",
       "    <tr>\n",
       "      <th>min</th>\n",
       "      <td>10.000000</td>\n",
       "      <td>57.603883</td>\n",
       "    </tr>\n",
       "    <tr>\n",
       "      <th>25%</th>\n",
       "      <td>50.000000</td>\n",
       "      <td>82.984619</td>\n",
       "    </tr>\n",
       "    <tr>\n",
       "      <th>50%</th>\n",
       "      <td>80.000000</td>\n",
       "      <td>82.984619</td>\n",
       "    </tr>\n",
       "    <tr>\n",
       "      <th>75%</th>\n",
       "      <td>140.000000</td>\n",
       "      <td>133.746089</td>\n",
       "    </tr>\n",
       "    <tr>\n",
       "      <th>max</th>\n",
       "      <td>572.000000</td>\n",
       "      <td>438.314910</td>\n",
       "    </tr>\n",
       "  </tbody>\n",
       "</table>\n",
       "</div>"
      ],
      "text/plain": [
       "            Actual    Predicted\n",
       "count  3712.000000  3712.000000\n",
       "mean    106.837554   106.409834\n",
       "std      83.232250    45.788413\n",
       "min      10.000000    57.603883\n",
       "25%      50.000000    82.984619\n",
       "50%      80.000000    82.984619\n",
       "75%     140.000000   133.746089\n",
       "max     572.000000   438.314910"
      ]
     },
     "execution_count": 48,
     "metadata": {},
     "output_type": "execute_result"
    }
   ],
   "source": [
    "data.describe() # comparing the values"
   ]
  },
  {
   "cell_type": "markdown",
   "id": "6eddbba0",
   "metadata": {},
   "source": [
    "### conclusions after adjusted model\n",
    "The values are comparable with the first iteration of the regression model, especially the R2-Value with 0.29. Either the correlation is not linear or there are other factors. "
   ]
  },
  {
   "cell_type": "markdown",
   "id": "d13f36d8",
   "metadata": {},
   "source": [
    "#### Reflections on possible data bias"
   ]
  },
  {
   "cell_type": "markdown",
   "id": "edec3ef0",
   "metadata": {},
   "source": [
    "Human Error: Landlords list their listings and set a price. If there is a zero less or more makes a difference. OR a landlord sets a price that is way too high or too low for other reasons like poor understanding of the local markets. Since the data is web-scraped and there is no authority checking if all prices are correctly entered, there is no way to rule that out. Chances are low, of course, because price is the most important information.\n",
    "\n",
    "It's not the same with number of accommodated people or room-type. Landlords might add a few people for a rather small property, just to increase the possible price. As we saw in earlier submissions, the number of beds and number of accommodates is not the same. So, this might be more of a problem, but no way to fix it, either."
   ]
  }
 ],
 "metadata": {
  "kernelspec": {
   "display_name": "Python 3 (ipykernel)",
   "language": "python",
   "name": "python3"
  },
  "language_info": {
   "codemirror_mode": {
    "name": "ipython",
    "version": 3
   },
   "file_extension": ".py",
   "mimetype": "text/x-python",
   "name": "python",
   "nbconvert_exporter": "python",
   "pygments_lexer": "ipython3",
   "version": "3.10.9"
  }
 },
 "nbformat": 4,
 "nbformat_minor": 5
}
